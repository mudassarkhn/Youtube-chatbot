{
 "cells": [
  {
   "cell_type": "markdown",
   "id": "15f1812c",
   "metadata": {},
   "source": [
    "### Step 1 - Indexing (Document Ingestion)"
   ]
  },
  {
   "cell_type": "code",
   "execution_count": 4,
   "id": "3f8523a7",
   "metadata": {},
   "outputs": [
    {
     "name": "stdout",
     "output_type": "stream",
     "text": [
      "♪ (music) ♪ You've probably heard a lot\n",
      "about AI machine learning over the last few months. And maybe you've been inspired\n",
      "by videos showing what's possible with AI machine learning. But what is it really? Once you go beyond the hype\n",
      "and get down to writing code, what does AI really look like? Well, that's what we're going\n",
      "to go through in this video series, where we'll teach you what it's like\n",
      "to write code for machine learning, and how it provides different,\n",
      "new, and exciting scenarios that will help you write applications that behave more like a human being,\n",
      "giving you artificial intelligence. I'm Laurence,\n",
      "and I'm going to be your guide. You don't need\n",
      "to know a lot to get started, and we'll be using the Python language. Don't worry if you've never used it,\n",
      "it's super simple to understand, and you'll be up and running in no time. So let's start with a very simple example. Consider you're creating a game\n",
      "of Rock, Paper, Scissors. When you play this\n",
      "with a human, it's very basic; every child can learn it\n",
      "in just a few minutes. Now, let's take a look\n",
      "at the most basic part of a game that the human brain is really good at, and that's recognizing\n",
      "what it's actually looking at. So consider these images. Most people can look at them\n",
      "and instantly recognize which ones are rock, which ones are paper, and which ones are scissors. But how would you program\n",
      "a computer to recognize them? Think about all of the diversity\n",
      "of hand types, skin color, and even people who do scissors\n",
      "like me, with their thumb sticking out, and people who do scissors\n",
      "with their thumb in. If you've ever written any kind of code,\n",
      "you'll instantly realize that this is a really,\n",
      "really difficult task. It might take you thousands\n",
      "or tens of thousands of lines of code, and that's just to play\n",
      "rock, paper, or scissors. So what if there was\n",
      "a different way to teach a computer to recognize what it sees? What if you could have\n",
      "a computer learn in the same way that a human does? That's the core of machine learning\n",
      "and the path to artificial intelligence. So traditional programming\n",
      "looks like this. You have data, for example,\n",
      "a feed from the webcam, and you have rules that act on this data. These rules are expressed\n",
      "in a programming language and are the bulk\n",
      "of any code that you write. Ultimately, these rules will act\n",
      "on the data and give you an answer. Maybe it sees a rock,\n",
      "maybe it sees a paper, and maybe it sees scissors. But what if you turn this diagram around, and instead of you as the programmer\n",
      "figuring out the rules, you instead give\n",
      "it answers with the data and have the computer\n",
      "figure out what the rules are. That's machine learning. So now, I can have\n",
      "lots of pictures of rocks and tell a computer\n",
      "that this is what a rock looks like, and this is what paper looks like, and this is what scissors looks like. And I can have a computer\n",
      "figure out the patterns that match them to each other. Then, my computer will have learned\n",
      "to recognize a rock, paper, and scissors. That's the core of building something\n",
      "that uses machine learning. You get a set of data\n",
      "that has patterns inherent in it, and you have a computer learn\n",
      "what those patterns are. Before we write a neural network that learns something as complex\n",
      "as rock, paper, and scissors, let's use a much simpler example. Take a look at these numbers-- there's a relationship\n",
      "between the X and Y values. Can you see it? It's actually Y = 2X - 1. So if you saw it, how did you get that? Maybe you noticed\n",
      "that the Y value increases by 2, while the X value only increases by 1. So it was Y = 2X \n",
      "plus a minus something. And then, you may have seen\n",
      "that when X was zero, Y was minus one, so you figured Y = 2X - 1\n",
      "would be a good guess, and then you took a look\n",
      "at the other numbers and saw that it worked. That's exactly the principle\n",
      "that all machine learning works on. So let's take a look. This is the entire code that you can use\n",
      "to create a machine-learned model that figures out what matches\n",
      "these numbers to each other. Don't worry if some of it\n",
      "doesn't look very familiar right now, you'll be able to pick that up in no time. This first line defines the model itself. A model is a trained neural network, and here we have\n",
      "the simplest possible neural network, which, in this case, is a single layer\n",
      "indicated by the keras.layers.Dense code. And that layer has a single neuron in it,\n",
      "indicated by units = 1. We also feed a single value\n",
      "into the neural network, which is the X value, and we'll have the neural network\n",
      "predict what the Y would be for that X. So that's why we just say\n",
      "that input_shape is one value. When you compile the model, \n",
      "there are two functions: the loss and the optimizer. These are the key to machine learning. How machine learning works\n",
      "is that the model will make a guess about the relationship\n",
      "between the numbers. For example, it might guess\n",
      "that Y = 5X + 5. And when training, it will then calculate how good or how bad that guess is,\n",
      "using the loss function. And then, it will use\n",
      "the optimizer function to generate another guess. The logic is that the combination\n",
      "of these two functions will slowly get us closer and closer\n",
      "to the correct formula. And, in this case, it will go through\n",
      "that loop 500 times, making a guess, calculating\n",
      "how accurate that guess is, and then using the optimizer\n",
      "to enhance that guess, and so on. The data itself is set up\n",
      "as an array of Xs and Ys, and our process\n",
      "of matching them to each other is in the fit method of the model. We literally say, \"fit the Xs\n",
      "to the Ys and try this 500 times.\" When it's done,\n",
      "we'll have a trained model. So now you can try to predict\n",
      "a Y value for a given X. What do you think would happen\n",
      "if you tried this line of code predict the Y when X equals 10? You might think\n",
      "that the answer is 19, right? But it isn't. It's actually something like 18.9998. It's close to 19,\n",
      "but it's not quite there. Why do you think that would be? Well, the computer was trained\n",
      "to match only six pairs of numbers. It looks like a straight-line relationship\n",
      "between them, for those six, but it may not be a straight line\n",
      "for values outside of those six. There's a very high probability\n",
      "that it's a straight line, but we can't be certain. And this probability is built\n",
      "into the prediction, so it's telling us a value very close \n",
      "to 19, instead of exactly 19. Try the code out using the link\n",
      "in the description below this video to see it for yourself. This is something you'll see\n",
      "a lot more of in machine learning. And in the next video in this series,\n",
      "we'll take what you've learned and apply that\n",
      "to a more interesting problem-- computer vision-- and seeing how you can\n",
      "teach a computer to see things, using exactly the same methodology\n",
      "as you used here. We'll see you in that video, and don't forget to hit\n",
      "that subscribe button. Thank you! ♪ (music) ♪\n"
     ]
    }
   ],
   "source": [
    "video_id = \"KNAWp2S3w94\" # only the ID, not full URL\n",
    "try:\n",
    "    # If you don’t care which language, this returns the “best” one\n",
    "    transcript_list = YouTubeTranscriptApi.get_transcript(video_id, languages=[\"en\"])\n",
    "\n",
    "    # Flatten it to plain text\n",
    "    transcript = \" \".join(chunk[\"text\"] for chunk in transcript_list)\n",
    "    print(transcript)\n",
    "\n",
    "except TranscriptsDisabled:\n",
    "    print(\"No captions available for this video.\")"
   ]
  },
  {
   "cell_type": "markdown",
   "id": "e7008023",
   "metadata": {},
   "source": [
    "#### Show the first 5 chunks of the transcript"
   ]
  },
  {
   "cell_type": "code",
   "execution_count": 5,
   "id": "71fa0df3",
   "metadata": {},
   "outputs": [
    {
     "data": {
      "text/plain": [
       "[{'text': '♪ (music) ♪', 'start': 0.15, 'duration': 2.222},\n",
       " {'text': \"You've probably heard a lot\\nabout AI machine learning\",\n",
       "  'start': 4.066,\n",
       "  'duration': 2.53},\n",
       " {'text': 'over the last few months.', 'start': 6.596, 'duration': 1.173},\n",
       " {'text': \"And maybe you've been inspired\\nby videos showing what's possible\",\n",
       "  'start': 7.769,\n",
       "  'duration': 2.94},\n",
       " {'text': 'with AI machine learning.', 'start': 10.709, 'duration': 1.8}]"
      ]
     },
     "execution_count": 5,
     "metadata": {},
     "output_type": "execute_result"
    }
   ],
   "source": [
    "transcript_list[:5]  # Show the first 5 chunks of the transcript"
   ]
  },
  {
   "cell_type": "markdown",
   "id": "768cbbc1",
   "metadata": {},
   "source": [
    "### Step - 2 Indexing (Text Splitting)"
   ]
  },
  {
   "cell_type": "code",
   "execution_count": null,
   "id": "0930973f",
   "metadata": {},
   "outputs": [],
   "source": [
    "from langchain.text_splitter import RecursiveCharacterTextSplitter\n",
    "splitter = RecursiveCharacterTextSplitter(chunk_size=300, chunk_overlap=20)\n",
    "chunks = splitter.create_documents([transcript])"
   ]
  },
  {
   "cell_type": "code",
   "execution_count": 9,
   "id": "94193859",
   "metadata": {},
   "outputs": [
    {
     "data": {
      "text/plain": [
       "27"
      ]
     },
     "execution_count": 9,
     "metadata": {},
     "output_type": "execute_result"
    }
   ],
   "source": [
    "len(chunks)  # Number of chunks created"
   ]
  },
  {
   "cell_type": "markdown",
   "id": "025b419d",
   "metadata": {},
   "source": [
    "### Step 3 - Embedding Generation"
   ]
  },
  {
   "cell_type": "code",
   "execution_count": null,
   "id": "3796ca6c",
   "metadata": {},
   "outputs": [
    {
     "name": "stdout",
     "output_type": "stream",
     "text": [
      "[-0.01861327327787876, 0.01201360858976841, -0.00407150574028492, -0.09517369419336319, -0.0025419637095183134]\n"
     ]
    }
   ],
   "source": [
    "from langchain_google_genai import GoogleGenerativeAIEmbeddings\n",
    "\n",
    "embeddings = GoogleGenerativeAIEmbeddings(google_api_key='use your own api key',model=\"models/gemini-embedding-exp-03-07\")\n",
    "vector = embeddings.embed_query(\"What are embeddings?\")\n",
    "print(vector[:5])"
   ]
  },
  {
   "cell_type": "markdown",
   "id": "e99290cf",
   "metadata": {},
   "source": [
    "### Step 4 - Storing in Vector"
   ]
  },
  {
   "cell_type": "markdown",
   "id": "d411cd90",
   "metadata": {},
   "source": [
    "#### Example if you are using qdrant "
   ]
  },
  {
   "cell_type": "code",
   "execution_count": 14,
   "id": "4f7c43ed",
   "metadata": {},
   "outputs": [],
   "source": [
    "from langchain_qdrant import QdrantVectorStore"
   ]
  },
  {
   "cell_type": "code",
   "execution_count": null,
   "id": "fc753545",
   "metadata": {},
   "outputs": [],
   "source": [
    "qdrant_url = \"\"\n",
    "qdrant_key = \"\"\n",
    "collection_name = \"YT chatbot\""
   ]
  },
  {
   "cell_type": "code",
   "execution_count": null,
   "id": "2f1ec21b",
   "metadata": {},
   "outputs": [],
   "source": [
    "from qdrant_client import QdrantClient\n",
    "\n",
    "client = QdrantClient(\n",
    "    url=qdrant_url,\n",
    "    api_key=qdrant_key,\n",
    "    timeout=60.0  # increase to 60 seconds or more\n",
    ")"
   ]
  },
  {
   "cell_type": "code",
   "execution_count": null,
   "id": "7dc2e8c3",
   "metadata": {},
   "outputs": [],
   "source": [
    "# Initialize QdrantVectorStore with documents and embedding model\n",
    "qdrant = QdrantVectorStore.from_documents(\n",
    "    chunks,                # List of Document objects to be stored in the vector store\n",
    "    embeddings,             # Embedding model used to convert documents into vectors        # URL for the Qdrant service\n",
    "    client=client,      # API key for accessing the Qdrant service\n",
    "    collection_name=collection_name  # Name of the collection to store the vectors in\n",
    ")"
   ]
  },
  {
   "cell_type": "markdown",
   "id": "e8735220",
   "metadata": {},
   "source": [
    "#### Creating chroma db vector store"
   ]
  },
  {
   "cell_type": "code",
   "execution_count": 18,
   "id": "14acdfd3",
   "metadata": {},
   "outputs": [],
   "source": [
    "from langchain.vectorstores import Chroma\n",
    "db = Chroma.from_documents(\n",
    "    documents=chunks,\n",
    "    embedding=embeddings,\n",
    "    persist_directory='./chromadb'\n",
    ")\n"
   ]
  },
  {
   "cell_type": "markdown",
   "id": "eaae7a51",
   "metadata": {},
   "source": [
    "### Step 5 - Retrieval"
   ]
  },
  {
   "cell_type": "code",
   "execution_count": 19,
   "id": "a54bf35d",
   "metadata": {},
   "outputs": [
    {
     "data": {
      "text/plain": [
       "[Document(metadata={}, page_content=\"♪ (music) ♪ You've probably heard a lot\\nabout AI machine learning over the last few months. And maybe you've been inspired\\nby videos showing what's possible with AI machine learning. But what is it really? Once you go beyond the hype\"),\n",
       " Document(metadata={}, page_content=\"it answers with the data and have the computer\\nfigure out what the rules are. That's machine learning. So now, I can have\\nlots of pictures of rocks and tell a computer\"),\n",
       " Document(metadata={}, page_content=\"and get down to writing code, what does AI really look like? Well, that's what we're going\\nto go through in this video series, where we'll teach you what it's like\\nto write code for machine learning, and how it provides different,\")]"
      ]
     },
     "execution_count": 19,
     "metadata": {},
     "output_type": "execute_result"
    }
   ],
   "source": [
    "retriver=db.as_retriever(search_type=\"similarity\", search_kwargs={\"k\": 3})\n",
    "retriver.invoke(\"What Machine learning?\")"
   ]
  },
  {
   "cell_type": "markdown",
   "id": "b4d9256c",
   "metadata": {},
   "source": [
    "### Step 6 - Augmentation"
   ]
  },
  {
   "cell_type": "code",
   "execution_count": null,
   "id": "1833331f",
   "metadata": {},
   "outputs": [],
   "source": [
    "from langchain.chains.combine_documents import create_stuff_documents_chain\n",
    "from langchain_core.prompts import ChatPromptTemplate\n"
   ]
  },
  {
   "cell_type": "markdown",
   "id": "8d3cc627",
   "metadata": {},
   "source": [
    "#### Loading model"
   ]
  },
  {
   "cell_type": "code",
   "execution_count": null,
   "id": "fd7a5684",
   "metadata": {},
   "outputs": [],
   "source": [
    "from langchain_google_genai import ChatGoogleGenerativeAI\n",
    "\n",
    "llm = ChatGoogleGenerativeAI(\n",
    "    google_api_key='use your own google api key',\n",
    "    model=\"gemini-2.0-flash\",\n",
    "    temperature=0,\n",
    "    max_tokens=None,\n",
    "    timeout=None,\n",
    "    max_retries=2,\n",
    "    # other params...\n",
    ")"
   ]
  },
  {
   "cell_type": "markdown",
   "id": "3c03c822",
   "metadata": {},
   "source": [
    "#### Checking if model working properly"
   ]
  },
  {
   "cell_type": "code",
   "execution_count": null,
   "id": "d7561076",
   "metadata": {},
   "outputs": [],
   "source": [
    "messages = [\n",
    "    (\n",
    "        \"system\",\n",
    "        \"You are a helpful assistant that translates English to French. Translate the user sentence.\",\n",
    "    ),\n",
    "    (\"human\", \"I love programming.\"),\n",
    "]\n",
    "ai_msg = llm.invoke(messages)\n",
    "ai_msg"
   ]
  },
  {
   "cell_type": "markdown",
   "id": "b76627bd",
   "metadata": {},
   "source": [
    "#### Complete RAG pipeline"
   ]
  },
  {
   "cell_type": "code",
   "execution_count": null,
   "id": "ac4469f2",
   "metadata": {},
   "outputs": [],
   "source": [
    "\n",
    "prompt ='''\n",
    "      You are a helpful assistant.\n",
    "      Answer ONLY from the provided transcript context.\n",
    "      If the context is insufficient, just say you don't know.\n",
    "\n",
    "      {context}\n",
    "      Question: {question}\n",
    "    ''',\n",
    "\n",
    "prompt=ChatPromptTemplate.from_template(prompt)\n",
    "document_chain=create_stuff_documents_chain(llm,prompt)\n",
    "retriever = db.as_retriever(search_type=\"similarity\",\n",
    "                                        search_kwargs={\"k\": 3})\n",
    "from langchain.chains import create_retrieval_chain\n",
    "retrieval_chain=create_retrieval_chain(retriever,document_chain)\n"
   ]
  },
  {
   "cell_type": "markdown",
   "id": "e48705ce",
   "metadata": {},
   "source": [
    "#### Example of checking the Youtube chatbot "
   ]
  },
  {
   "cell_type": "code",
   "execution_count": 37,
   "id": "59f53d46",
   "metadata": {},
   "outputs": [
    {
     "data": {
      "text/plain": [
       "'Machine learning is when you feed the computer data and have the computer figure out what the rules are.'"
      ]
     },
     "execution_count": 37,
     "metadata": {},
     "output_type": "execute_result"
    }
   ],
   "source": [
    "response=retrieval_chain.invoke({\"input\":\"what is Machine learning?\"})\n",
    "response['answer']"
   ]
  },
  {
   "cell_type": "code",
   "execution_count": 38,
   "id": "4cd7561c",
   "metadata": {},
   "outputs": [
    {
     "data": {
      "text/plain": [
       "'This video is about AI and machine learning. It will teach you what it is and how to apply it to computer vision, teaching a computer to see things.'"
      ]
     },
     "execution_count": 38,
     "metadata": {},
     "output_type": "execute_result"
    }
   ],
   "source": [
    "response=retrieval_chain.invoke({\"input\":\"can you summarize this video?\"})\n",
    "response['answer']"
   ]
  },
  {
   "cell_type": "markdown",
   "id": "2728b6d5",
   "metadata": {},
   "source": [
    "#### **Project by : Mudassar Khan**"
   ]
  }
 ],
 "metadata": {
  "kernelspec": {
   "display_name": "geni_ai",
   "language": "python",
   "name": "python3"
  },
  "language_info": {
   "codemirror_mode": {
    "name": "ipython",
    "version": 3
   },
   "file_extension": ".py",
   "mimetype": "text/x-python",
   "name": "python",
   "nbconvert_exporter": "python",
   "pygments_lexer": "ipython3",
   "version": "3.12.0"
  }
 },
 "nbformat": 4,
 "nbformat_minor": 5
}
